{
 "cells": [
  {
   "cell_type": "code",
   "execution_count": 1,
   "id": "expressed-estate",
   "metadata": {},
   "outputs": [],
   "source": [
    "import pandas as pd\n",
    "import numpy as np"
   ]
  },
  {
   "cell_type": "code",
   "execution_count": 3,
   "id": "growing-copyright",
   "metadata": {},
   "outputs": [],
   "source": [
    "df = pd.read_csv(\"covid_data_kerala.csv\")"
   ]
  },
  {
   "cell_type": "code",
   "execution_count": 4,
   "id": "approximate-management",
   "metadata": {},
   "outputs": [
    {
     "name": "stdout",
     "output_type": "stream",
     "text": [
      "         Date  Confirmed  Recovered  Deceased\n",
      "0  2020-01-30        NaN        NaN       NaN\n",
      "1  2020-01-31        0.0        NaN       0.0\n",
      "2  2020-02-01        0.0        NaN       0.0\n",
      "3  2020-02-02        1.0        NaN       0.0\n",
      "4  2020-02-03        1.0        NaN       0.0\n"
     ]
    }
   ],
   "source": [
    "print(df.head())"
   ]
  },
  {
   "cell_type": "code",
   "execution_count": 20,
   "id": "lesser-reception",
   "metadata": {},
   "outputs": [
    {
     "name": "stdout",
     "output_type": "stream",
     "text": [
      "           Date  Confirmed  Recovered  Deceased\n",
      "57   2020-03-27       39.0        3.0       0.0\n",
      "58   2020-03-28        6.0        8.0       1.0\n",
      "59   2020-03-29       20.0        4.0       0.0\n",
      "60   2020-03-30       32.0        0.0       0.0\n",
      "61   2020-03-31        7.0        4.0       1.0\n",
      "..          ...        ...        ...       ...\n",
      "483  2021-05-27    24166.0    30539.0     181.0\n",
      "484  2021-05-28    22318.0    26270.0     194.0\n",
      "485  2021-05-29    23513.0    28100.0     198.0\n",
      "486  2021-05-30    19894.0    29013.0     186.0\n",
      "487  2021-05-31    12300.0    28525.0     174.0\n",
      "\n",
      "[431 rows x 4 columns]\n"
     ]
    }
   ],
   "source": [
    "print(df)\n",
    "df.dropna(inplace = True)"
   ]
  },
  {
   "cell_type": "code",
   "execution_count": 21,
   "id": "registered-practitioner",
   "metadata": {},
   "outputs": [],
   "source": [
    "x=df.iloc[:,0]\n",
    "y=df.iloc[:,1]"
   ]
  },
  {
   "cell_type": "code",
   "execution_count": 22,
   "id": "smooth-stocks",
   "metadata": {},
   "outputs": [
    {
     "name": "stdout",
     "output_type": "stream",
     "text": [
      "57     2020-03-27\n",
      "58     2020-03-28\n",
      "59     2020-03-29\n",
      "60     2020-03-30\n",
      "61     2020-03-31\n",
      "          ...    \n",
      "483    2021-05-27\n",
      "484    2021-05-28\n",
      "485    2021-05-29\n",
      "486    2021-05-30\n",
      "487    2021-05-31\n",
      "Name: Date, Length: 431, dtype: object\n"
     ]
    }
   ],
   "source": [
    "print(x)"
   ]
  },
  {
   "cell_type": "code",
   "execution_count": 23,
   "id": "inappropriate-algorithm",
   "metadata": {},
   "outputs": [
    {
     "name": "stdout",
     "output_type": "stream",
     "text": [
      "57        39.0\n",
      "58         6.0\n",
      "59        20.0\n",
      "60        32.0\n",
      "61         7.0\n",
      "        ...   \n",
      "483    24166.0\n",
      "484    22318.0\n",
      "485    23513.0\n",
      "486    19894.0\n",
      "487    12300.0\n",
      "Name: Confirmed, Length: 431, dtype: float64\n"
     ]
    }
   ],
   "source": [
    "print(y)"
   ]
  },
  {
   "cell_type": "code",
   "execution_count": null,
   "id": "confidential-parallel",
   "metadata": {},
   "outputs": [],
   "source": [
    "import "
   ]
  },
  {
   "cell_type": "code",
   "execution_count": 24,
   "id": "automated-basic",
   "metadata": {},
   "outputs": [
    {
     "name": "stdout",
     "output_type": "stream",
     "text": [
      "           Date  Confirmed  Recovered  Deceased\n",
      "57   2020-03-27       39.0        3.0       0.0\n",
      "58   2020-03-28        6.0        8.0       1.0\n",
      "59   2020-03-29       20.0        4.0       0.0\n",
      "60   2020-03-30       32.0        0.0       0.0\n",
      "61   2020-03-31        7.0        4.0       1.0\n",
      "..          ...        ...        ...       ...\n",
      "483  2021-05-27    24166.0    30539.0     181.0\n",
      "484  2021-05-28    22318.0    26270.0     194.0\n",
      "485  2021-05-29    23513.0    28100.0     198.0\n",
      "486  2021-05-30    19894.0    29013.0     186.0\n",
      "487  2021-05-31    12300.0    28525.0     174.0\n",
      "\n",
      "[431 rows x 4 columns]\n"
     ]
    }
   ],
   "source": [
    "print(df)"
   ]
  },
  {
   "cell_type": "code",
   "execution_count": 3,
   "id": "casual-warning",
   "metadata": {},
   "outputs": [
    {
     "ename": "NameError",
     "evalue": "name 'df' is not defined",
     "output_type": "error",
     "traceback": [
      "\u001b[1;31m---------------------------------------------------------------------------\u001b[0m",
      "\u001b[1;31mNameError\u001b[0m                                 Traceback (most recent call last)",
      "\u001b[1;32m<ipython-input-3-48e89bb20fef>\u001b[0m in \u001b[0;36m<module>\u001b[1;34m\u001b[0m\n\u001b[0;32m      1\u001b[0m \u001b[1;31m#df=df.reset_index()\u001b[0m\u001b[1;33m\u001b[0m\u001b[1;33m\u001b[0m\u001b[1;33m\u001b[0m\u001b[0m\n\u001b[1;32m----> 2\u001b[1;33m \u001b[0mprint\u001b[0m\u001b[1;33m(\u001b[0m\u001b[0mdf\u001b[0m\u001b[1;33m.\u001b[0m\u001b[0mhead\u001b[0m\u001b[1;33m(\u001b[0m\u001b[1;33m)\u001b[0m\u001b[1;33m)\u001b[0m\u001b[1;33m\u001b[0m\u001b[1;33m\u001b[0m\u001b[0m\n\u001b[0m",
      "\u001b[1;31mNameError\u001b[0m: name 'df' is not defined"
     ]
    }
   ],
   "source": [
    "#df=df.reset_index()\n",
    "print(df.head())"
   ]
  },
  {
   "cell_type": "code",
   "execution_count": null,
   "id": "instructional-conducting",
   "metadata": {},
   "outputs": [],
   "source": []
  }
 ],
 "metadata": {
  "kernelspec": {
   "display_name": "Python 3",
   "language": "python",
   "name": "python3"
  },
  "language_info": {
   "codemirror_mode": {
    "name": "ipython",
    "version": 3
   },
   "file_extension": ".py",
   "mimetype": "text/x-python",
   "name": "python",
   "nbconvert_exporter": "python",
   "pygments_lexer": "ipython3",
   "version": "3.9.2"
  }
 },
 "nbformat": 4,
 "nbformat_minor": 5
}
