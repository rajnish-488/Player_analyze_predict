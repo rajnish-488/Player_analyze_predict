{
 "cells": [
  {
   "cell_type": "code",
   "execution_count": 79,
   "id": "encouraging-sender",
   "metadata": {},
   "outputs": [],
   "source": [
    "import numpy as np\n",
    "import pandas as pd\n",
    "import matplotlib.pyplot as plt\n",
    "%matplotlib inline\n",
    "import seaborn as sns\n",
    "import warnings\n",
    "warnings.simplefilter(action='ignore', category=Warning)"
   ]
  },
  {
   "cell_type": "code",
   "execution_count": 80,
   "id": "capable-theology",
   "metadata": {},
   "outputs": [],
   "source": [
    "fifa=pd.read_csv(\"Out_data\\modeling_data.csv\", index_col=0)"
   ]
  },
  {
   "cell_type": "code",
   "execution_count": 85,
   "id": "organized-istanbul",
   "metadata": {},
   "outputs": [],
   "source": [
    "fifa.head()\n",
    "\n",
    "\"\"\"m=fifa['Value'].mean()\n",
    "def set(x):\n",
    "    if(x==0):\n",
    "        return int(m)\n",
    "    else:\n",
    "        return int(x)\n",
    "fifa['Value'] = fifa['Value'].apply(lambda x: set(x)) \n",
    "\"\"\"\n",
    "fifa=fifa[fifa['Value']!=0]"
   ]
  },
  {
   "cell_type": "code",
   "execution_count": 86,
   "id": "confirmed-facial",
   "metadata": {},
   "outputs": [],
   "source": [
    "X = fifa[['Age','Overall', 'Potential','Special','International Reputation', 'Weak Foot', \n",
    "          'Skill Moves', 'Height', 'Weight','Crossing', 'Finishing', 'HeadingAccuracy', \n",
    "          'ShortPassing', 'Volleys','Dribbling', 'Curve', 'FKAccuracy', 'LongPassing', \n",
    "          'BallControl','Acceleration', 'SprintSpeed', 'Agility', 'Reactions', 'Balance',\n",
    "          'ShotPower', 'Jumping', 'Stamina', 'Strength', 'LongShots',\n",
    "          'Aggression', 'Interceptions', 'Positioning', 'Vision', 'Penalties',\n",
    "          'Composure', 'Marking', 'StandingTackle', 'SlidingTackle', 'GKDiving',\n",
    "          'GKHandling', 'GKKicking', 'GKPositioning', 'GKReflexes',\n",
    "          'Major_Nation', 'Right_Foot']]\n",
    "\n",
    "\n",
    "y = np.log1p(fifa['Value'])"
   ]
  },
  {
   "cell_type": "code",
   "execution_count": 87,
   "id": "written-merchant",
   "metadata": {},
   "outputs": [],
   "source": [
    "\n",
    "from sklearn.preprocessing import MinMaxScaler\n",
    "\n",
    "Xp=MinMaxScaler().fit_transform(X)"
   ]
  },
  {
   "cell_type": "code",
   "execution_count": 88,
   "id": "administrative-developer",
   "metadata": {},
   "outputs": [
    {
     "data": {
      "text/plain": [
       "SelectFromModel(estimator=Lasso(alpha=0.0001, random_state=35))"
      ]
     },
     "execution_count": 88,
     "metadata": {},
     "output_type": "execute_result"
    }
   ],
   "source": [
    "from sklearn.feature_selection import SelectFromModel\n",
    "from sklearn.linear_model import Lasso\n",
    "#using lesso linear model becaud it is more good when we have a lot of non  zero values\n",
    "select=SelectFromModel(Lasso(alpha=0.0001,random_state=35))\n",
    "select.fit(Xp,y)"
   ]
  },
  {
   "cell_type": "raw",
   "id": "spatial-monitor",
   "metadata": {},
   "source": [
    "select.get_support()"
   ]
  },
  {
   "cell_type": "code",
   "execution_count": 89,
   "id": "intensive-bouquet",
   "metadata": {},
   "outputs": [
    {
     "data": {
      "text/plain": [
       "array([ True,  True,  True, False,  True,  True,  True, False, False,\n",
       "        True,  True,  True, False,  True,  True, False,  True,  True,\n",
       "        True, False, False,  True,  True,  True,  True,  True,  True,\n",
       "        True,  True,  True, False,  True,  True,  True,  True,  True,\n",
       "       False,  True,  True,  True,  True,  True, False,  True,  True])"
      ]
     },
     "execution_count": 89,
     "metadata": {},
     "output_type": "execute_result"
    }
   ],
   "source": [
    "select.get_support()"
   ]
  },
  {
   "cell_type": "code",
   "execution_count": 90,
   "id": "pressing-tamil",
   "metadata": {},
   "outputs": [
    {
     "data": {
      "text/plain": [
       "Index(['Age', 'Overall', 'Potential', 'International Reputation', 'Weak Foot',\n",
       "       'Skill Moves', 'Crossing', 'Finishing', 'HeadingAccuracy', 'Volleys',\n",
       "       'Dribbling', 'FKAccuracy', 'LongPassing', 'BallControl', 'Agility',\n",
       "       'Reactions', 'Balance', 'ShotPower', 'Jumping', 'Stamina', 'Strength',\n",
       "       'LongShots', 'Aggression', 'Positioning', 'Vision', 'Penalties',\n",
       "       'Composure', 'Marking', 'SlidingTackle', 'GKDiving', 'GKHandling',\n",
       "       'GKKicking', 'GKPositioning', 'Major_Nation', 'Right_Foot'],\n",
       "      dtype='object')"
      ]
     },
     "execution_count": 90,
     "metadata": {},
     "output_type": "execute_result"
    }
   ],
   "source": [
    "sf=X.columns[(select.get_support())]\n",
    "sf"
   ]
  },
  {
   "cell_type": "code",
   "execution_count": 91,
   "id": "color-illinois",
   "metadata": {},
   "outputs": [
    {
     "name": "stdout",
     "output_type": "stream",
     "text": [
      "totle columns in X :45\n",
      "totle columns in sf :35\n",
      "totle columns in X :10\n"
     ]
    }
   ],
   "source": [
    "print(\"totle columns in X :\" + str(X.shape[1]))\n",
    "print(\"totle columns in sf :\" + str(len(sf)))\n",
    "print(\"totle columns in X :\" + str(X.shape[1]-len(sf)))"
   ]
  },
  {
   "cell_type": "code",
   "execution_count": 92,
   "id": "interstate-oracle",
   "metadata": {},
   "outputs": [
    {
     "data": {
      "text/plain": [
       "(17955, 35)"
      ]
     },
     "execution_count": 92,
     "metadata": {},
     "output_type": "execute_result"
    }
   ],
   "source": [
    "X=X[sf]\n",
    "X.shape"
   ]
  },
  {
   "cell_type": "code",
   "execution_count": 93,
   "id": "enormous-failing",
   "metadata": {},
   "outputs": [
    {
     "name": "stdout",
     "output_type": "stream",
     "text": [
      "(14364, 35) (3591, 35) (14364,) (3591,)\n"
     ]
    }
   ],
   "source": [
    "from sklearn.model_selection import train_test_split\n",
    "X_train,X_test,y_train,y_test=train_test_split(X,y,test_size=0.2,random_state=42)\n",
    "print(X_train.shape,X_test.shape,y_train.shape,y_test.shape)"
   ]
  },
  {
   "cell_type": "code",
   "execution_count": 94,
   "id": "theoretical-change",
   "metadata": {},
   "outputs": [],
   "source": [
    "from sklearn.metrics import mean_squared_error, explained_variance_score, r2_score\n",
    "\n",
    "def plot_prediction_analysis(y, y_pred, figsize=(10,4), title=''):\n",
    "    fig, axs = plt.subplots(1, 2, figsize=figsize)\n",
    "    axs[0].scatter(y, y_pred)\n",
    "    mn = min(np.min(y), np.min(y_pred))\n",
    "    mx = max(np.max(y), np.max(y_pred))\n",
    "    axs[0].plot([mn, mx], [mn, mx], c='red')\n",
    "    axs[0].set_xlabel('$y$')\n",
    "    axs[0].set_ylabel('$\\hat{y}$')\n",
    "    rmse = np.sqrt(mean_squared_error(y, y_pred))\n",
    "    evs = explained_variance_score(y, y_pred)\n",
    "    r2 = r2_score(y, y_pred)\n",
    "    axs[0].set_title('rmse = {:.2f}, evs = {:.2f}, r2 = {:,.2f}'.format(rmse, evs, r2))\n",
    "    \n",
    "    axs[1].hist(y-y_pred, bins=50)\n",
    "    avg = np.mean(y-y_pred)\n",
    "    std = np.std(y-y_pred)\n",
    "    axs[1].set_xlabel('$y - \\hat{y}$')\n",
    "    axs[1].set_title('Histrogram prediction error, $\\mu$ = {:.2f}, $\\sigma$ = {:.2f}'.format(avg, std))\n",
    "    \n",
    "    if title!='':\n",
    "        fig.suptitle(title)"
   ]
  },
  {
   "cell_type": "code",
   "execution_count": 95,
   "id": "focal-canon",
   "metadata": {},
   "outputs": [
    {
     "data": {
      "image/png": "[encoded data removed]",
      "text/plain": [
       "<Figure size 720x288 with 2 Axes>"
      ]
     },
     "metadata": {
      "needs_background": "light"
     },
     "output_type": "display_data"
    },
    {
     "data": {
      "image/png": "[encoded data removed]",
      "text/plain": [
       "<Figure size 720x288 with 2 Axes>"
      ]
     },
     "metadata": {
      "needs_background": "light"
     },
     "output_type": "display_data"
    }
   ],
   "source": [
    "from sklearn.pipeline import Pipeline\n",
    "from sklearn.linear_model import Lasso\n",
    "from sklearn.preprocessing import StandardScaler, PolynomialFeatures\n",
    "\n",
    "# usning pipelining on the linear rgression model\n",
    "model = Pipeline((\n",
    "        (\"standard_scaler\", StandardScaler()),\n",
    "        (\"poly\", PolynomialFeatures(degree=2)),\n",
    "        (\"lin_reg\", Lasso(alpha=0.01))\n",
    "    ))\n",
    "\n",
    "model.fit(X_train, y_train)\n",
    "\n",
    "y_train_pred = model.predict(X_train)\n",
    "\n",
    "plot_prediction_analysis(y_train, y_train_pred, title='Training data Set')\n",
    "\n",
    "y_test_pred = model.predict(X_test)\n",
    "plot_prediction_analysis(y_test, y_test_pred, title='Testing data Set')"
   ]
  },
  {
   "cell_type": "code",
   "execution_count": null,
   "id": "temporal-chrome",
   "metadata": {},
   "outputs": [],
   "source": []
  }
 ],
 "metadata": {
  "kernelspec": {
   "display_name": "Python 3",
   "language": "python",
   "name": "python3"
  },
  "language_info": {
   "codemirror_mode": {
    "name": "ipython",
    "version": 3
   },
   "file_extension": ".py",
   "mimetype": "text/x-python",
   "name": "python",
   "nbconvert_exporter": "python",
   "pygments_lexer": "ipython3",
   "version": "3.9.2"
  }
 },
 "nbformat": 4,
 "nbformat_minor": 5
}
