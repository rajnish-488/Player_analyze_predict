{
 "cells": [
  {
   "cell_type": "code",
   "execution_count": 2,
   "id": "encouraging-sender",
   "metadata": {},
   "outputs": [],
   "source": [
    "import numpy as np\n",
    "import pandas as pd\n",
    "import matplotlib.pyplot as plt\n",
    "%matplotlib inline\n",
    "import seaborn as sns\n",
    "import warnings\n",
    "warnings.simplefilter(action='ignore', category=Warning)"
   ]
  },
  {
   "cell_type": "code",
   "execution_count": 3,
   "id": "capable-theology",
   "metadata": {},
   "outputs": [],
   "source": [
    "fifa=pd.read_csv(\"Out_data\\modeling_data.csv\", index_col=0)"
   ]
  },
  {
   "cell_type": "code",
   "execution_count": 4,
   "id": "organized-istanbul",
   "metadata": {},
   "outputs": [
    {
     "data": {
      "text/html": [
       "<div>\n",
       "<style scoped>\n",
       "    .dataframe tbody tr th:only-of-type {\n",
       "        vertical-align: middle;\n",
       "    }\n",
       "\n",
       "    .dataframe tbody tr th {\n",
       "        vertical-align: top;\n",
       "    }\n",
       "\n",
       "    .dataframe thead th {\n",
       "        text-align: right;\n",
       "    }\n",
       "</style>\n",
       "<table border=\"1\" class=\"dataframe\">\n",
       "  <thead>\n",
       "    <tr style=\"text-align: right;\">\n",
       "      <th></th>\n",
       "      <th>Age</th>\n",
       "      <th>Overall</th>\n",
       "      <th>Potential</th>\n",
       "      <th>Value</th>\n",
       "      <th>Special</th>\n",
       "      <th>International Reputation</th>\n",
       "      <th>Weak Foot</th>\n",
       "      <th>Skill Moves</th>\n",
       "      <th>Body Type</th>\n",
       "      <th>Height</th>\n",
       "      <th>...</th>\n",
       "      <th>GKDiving</th>\n",
       "      <th>GKHandling</th>\n",
       "      <th>GKKicking</th>\n",
       "      <th>GKPositioning</th>\n",
       "      <th>GKReflexes</th>\n",
       "      <th>Right_Foot</th>\n",
       "      <th>WorkRate1</th>\n",
       "      <th>WorkRate2</th>\n",
       "      <th>Major_Nation</th>\n",
       "      <th>Simple_Position</th>\n",
       "    </tr>\n",
       "  </thead>\n",
       "  <tbody>\n",
       "    <tr>\n",
       "      <th>0</th>\n",
       "      <td>31</td>\n",
       "      <td>94</td>\n",
       "      <td>94</td>\n",
       "      <td>110500000.0</td>\n",
       "      <td>2202</td>\n",
       "      <td>5.0</td>\n",
       "      <td>4.0</td>\n",
       "      <td>4.0</td>\n",
       "      <td>0</td>\n",
       "      <td>5.583333</td>\n",
       "      <td>...</td>\n",
       "      <td>6.0</td>\n",
       "      <td>11.0</td>\n",
       "      <td>15.0</td>\n",
       "      <td>14.0</td>\n",
       "      <td>8.0</td>\n",
       "      <td>0</td>\n",
       "      <td>0</td>\n",
       "      <td>0</td>\n",
       "      <td>1</td>\n",
       "      <td>0</td>\n",
       "    </tr>\n",
       "    <tr>\n",
       "      <th>1</th>\n",
       "      <td>33</td>\n",
       "      <td>94</td>\n",
       "      <td>94</td>\n",
       "      <td>77000000.0</td>\n",
       "      <td>2228</td>\n",
       "      <td>5.0</td>\n",
       "      <td>4.0</td>\n",
       "      <td>5.0</td>\n",
       "      <td>1</td>\n",
       "      <td>6.166667</td>\n",
       "      <td>...</td>\n",
       "      <td>7.0</td>\n",
       "      <td>11.0</td>\n",
       "      <td>15.0</td>\n",
       "      <td>14.0</td>\n",
       "      <td>11.0</td>\n",
       "      <td>1</td>\n",
       "      <td>1</td>\n",
       "      <td>2</td>\n",
       "      <td>1</td>\n",
       "      <td>0</td>\n",
       "    </tr>\n",
       "    <tr>\n",
       "      <th>2</th>\n",
       "      <td>26</td>\n",
       "      <td>92</td>\n",
       "      <td>93</td>\n",
       "      <td>118500000.0</td>\n",
       "      <td>2143</td>\n",
       "      <td>5.0</td>\n",
       "      <td>5.0</td>\n",
       "      <td>5.0</td>\n",
       "      <td>0</td>\n",
       "      <td>5.750000</td>\n",
       "      <td>...</td>\n",
       "      <td>9.0</td>\n",
       "      <td>9.0</td>\n",
       "      <td>15.0</td>\n",
       "      <td>15.0</td>\n",
       "      <td>11.0</td>\n",
       "      <td>1</td>\n",
       "      <td>1</td>\n",
       "      <td>0</td>\n",
       "      <td>1</td>\n",
       "      <td>1</td>\n",
       "    </tr>\n",
       "    <tr>\n",
       "      <th>3</th>\n",
       "      <td>27</td>\n",
       "      <td>91</td>\n",
       "      <td>93</td>\n",
       "      <td>72000000.0</td>\n",
       "      <td>1471</td>\n",
       "      <td>4.0</td>\n",
       "      <td>3.0</td>\n",
       "      <td>1.0</td>\n",
       "      <td>0</td>\n",
       "      <td>6.333333</td>\n",
       "      <td>...</td>\n",
       "      <td>90.0</td>\n",
       "      <td>85.0</td>\n",
       "      <td>87.0</td>\n",
       "      <td>88.0</td>\n",
       "      <td>94.0</td>\n",
       "      <td>1</td>\n",
       "      <td>0</td>\n",
       "      <td>0</td>\n",
       "      <td>1</td>\n",
       "      <td>2</td>\n",
       "    </tr>\n",
       "    <tr>\n",
       "      <th>4</th>\n",
       "      <td>27</td>\n",
       "      <td>91</td>\n",
       "      <td>92</td>\n",
       "      <td>102000000.0</td>\n",
       "      <td>2281</td>\n",
       "      <td>4.0</td>\n",
       "      <td>5.0</td>\n",
       "      <td>4.0</td>\n",
       "      <td>1</td>\n",
       "      <td>5.916667</td>\n",
       "      <td>...</td>\n",
       "      <td>15.0</td>\n",
       "      <td>13.0</td>\n",
       "      <td>5.0</td>\n",
       "      <td>10.0</td>\n",
       "      <td>13.0</td>\n",
       "      <td>1</td>\n",
       "      <td>1</td>\n",
       "      <td>1</td>\n",
       "      <td>1</td>\n",
       "      <td>3</td>\n",
       "    </tr>\n",
       "  </tbody>\n",
       "</table>\n",
       "<p>5 rows × 76 columns</p>\n",
       "</div>"
      ],
      "text/plain": [
       "   Age  Overall  Potential        Value  Special  International Reputation  \\\n",
       "0   31       94         94  110500000.0     2202                       5.0   \n",
       "1   33       94         94   77000000.0     2228                       5.0   \n",
       "2   26       92         93  118500000.0     2143                       5.0   \n",
       "3   27       91         93   72000000.0     1471                       4.0   \n",
       "4   27       91         92  102000000.0     2281                       4.0   \n",
       "\n",
       "   Weak Foot  Skill Moves  Body Type    Height  ...  GKDiving  GKHandling  \\\n",
       "0        4.0          4.0          0  5.583333  ...       6.0        11.0   \n",
       "1        4.0          5.0          1  6.166667  ...       7.0        11.0   \n",
       "2        5.0          5.0          0  5.750000  ...       9.0         9.0   \n",
       "3        3.0          1.0          0  6.333333  ...      90.0        85.0   \n",
       "4        5.0          4.0          1  5.916667  ...      15.0        13.0   \n",
       "\n",
       "   GKKicking  GKPositioning  GKReflexes  Right_Foot  WorkRate1  WorkRate2  \\\n",
       "0       15.0           14.0         8.0           0          0          0   \n",
       "1       15.0           14.0        11.0           1          1          2   \n",
       "2       15.0           15.0        11.0           1          1          0   \n",
       "3       87.0           88.0        94.0           1          0          0   \n",
       "4        5.0           10.0        13.0           1          1          1   \n",
       "\n",
       "   Major_Nation  Simple_Position  \n",
       "0             1                0  \n",
       "1             1                0  \n",
       "2             1                1  \n",
       "3             1                2  \n",
       "4             1                3  \n",
       "\n",
       "[5 rows x 76 columns]"
      ]
     },
     "execution_count": 4,
     "metadata": {},
     "output_type": "execute_result"
    }
   ],
   "source": [
    "fifa.head()"
   ]
  },
  {
   "cell_type": "code",
   "execution_count": 5,
   "id": "confirmed-facial",
   "metadata": {},
   "outputs": [],
   "source": [
    "X = fifa[['Age','Overall', 'Potential','Special','International Reputation', 'Weak Foot', \n",
    "          'Skill Moves', 'Height', 'Weight','Crossing', 'Finishing', 'HeadingAccuracy', \n",
    "          'ShortPassing', 'Volleys','Dribbling', 'Curve', 'FKAccuracy', 'LongPassing', \n",
    "          'BallControl','Acceleration', 'SprintSpeed', 'Agility', 'Reactions', 'Balance',\n",
    "          'ShotPower', 'Jumping', 'Stamina', 'Strength', 'LongShots',\n",
    "          'Aggression', 'Interceptions', 'Positioning', 'Vision', 'Penalties',\n",
    "          'Composure', 'Marking', 'StandingTackle', 'SlidingTackle', 'GKDiving',\n",
    "          'GKHandling', 'GKKicking', 'GKPositioning', 'GKReflexes',\n",
    "          'Major_Nation', 'Right_Foot']]\n",
    "y = np.log1p(fifa['Value'])"
   ]
  },
  {
   "cell_type": "code",
   "execution_count": 12,
   "id": "written-merchant",
   "metadata": {},
   "outputs": [],
   "source": [
    "\n",
    "from sklearn.preprocessing import MinMaxScaler\n",
    "\n",
    "Xp=MinMaxScaler().fit_transform(X)"
   ]
  },
  {
   "cell_type": "code",
   "execution_count": 19,
   "id": "administrative-developer",
   "metadata": {},
   "outputs": [
    {
     "data": {
      "text/plain": [
       "SelectFromModel(estimator=Lasso(alpha=0.0001, random_state=35))"
      ]
     },
     "execution_count": 19,
     "metadata": {},
     "output_type": "execute_result"
    }
   ],
   "source": [
    "from sklearn.feature_selection import SelectFromModel\n",
    "from sklearn.linear_model import Lasso\n",
    "#using lesso linear model becaud it is more good when we have a lot of non  zero values\n",
    "select=SelectFromModel(Lasso(alpha=0.0001,random_state=35))\n",
    "select.fit(Xp,y)"
   ]
  },
  {
   "cell_type": "raw",
   "id": "spatial-monitor",
   "metadata": {},
   "source": [
    "select.get_support()"
   ]
  },
  {
   "cell_type": "code",
   "execution_count": 20,
   "id": "intensive-bouquet",
   "metadata": {},
   "outputs": [
    {
     "data": {
      "text/plain": [
       "array([ True,  True,  True, False,  True,  True,  True, False,  True,\n",
       "        True,  True,  True,  True,  True,  True,  True,  True,  True,\n",
       "        True,  True,  True,  True,  True,  True,  True,  True,  True,\n",
       "        True,  True,  True,  True,  True,  True,  True,  True,  True,\n",
       "        True,  True,  True, False,  True,  True,  True,  True,  True])"
      ]
     },
     "execution_count": 20,
     "metadata": {},
     "output_type": "execute_result"
    }
   ],
   "source": [
    "select.get_support()"
   ]
  },
  {
   "cell_type": "code",
   "execution_count": 23,
   "id": "pressing-tamil",
   "metadata": {},
   "outputs": [
    {
     "data": {
      "text/plain": [
       "Index(['Age', 'Overall', 'Potential', 'International Reputation', 'Weak Foot',\n",
       "       'Skill Moves', 'Weight', 'Crossing', 'Finishing', 'HeadingAccuracy',\n",
       "       'ShortPassing', 'Volleys', 'Dribbling', 'Curve', 'FKAccuracy',\n",
       "       'LongPassing', 'BallControl', 'Acceleration', 'SprintSpeed', 'Agility',\n",
       "       'Reactions', 'Balance', 'ShotPower', 'Jumping', 'Stamina', 'Strength',\n",
       "       'LongShots', 'Aggression', 'Interceptions', 'Positioning', 'Vision',\n",
       "       'Penalties', 'Composure', 'Marking', 'StandingTackle', 'SlidingTackle',\n",
       "       'GKDiving', 'GKKicking', 'GKPositioning', 'GKReflexes', 'Major_Nation',\n",
       "       'Right_Foot'],\n",
       "      dtype='object')"
      ]
     },
     "execution_count": 23,
     "metadata": {},
     "output_type": "execute_result"
    }
   ],
   "source": [
    "sf=X.columns[(select.get_support())]\n",
    "sf"
   ]
  },
  {
   "cell_type": "code",
   "execution_count": 31,
   "id": "color-illinois",
   "metadata": {},
   "outputs": [
    {
     "name": "stdout",
     "output_type": "stream",
     "text": [
      "totle columns in X :45\n",
      "totle columns in sf :42\n",
      "totle columns in X :3\n"
     ]
    }
   ],
   "source": [
    "print(\"totle columns in X :\" + str(X.shape[1]))\n",
    "print(\"totle columns in sf :\" + str(len(sf)))\n",
    "print(\"totle columns in X :\" + str(X.shape[1]-len(sf)))"
   ]
  },
  {
   "cell_type": "code",
   "execution_count": 34,
   "id": "interstate-oracle",
   "metadata": {},
   "outputs": [
    {
     "data": {
      "text/plain": [
       "(18207, 42)"
      ]
     },
     "execution_count": 34,
     "metadata": {},
     "output_type": "execute_result"
    }
   ],
   "source": [
    "X=X[sf]\n",
    "X.shape"
   ]
  },
  {
   "cell_type": "code",
   "execution_count": 42,
   "id": "enormous-failing",
   "metadata": {},
   "outputs": [
    {
     "name": "stdout",
     "output_type": "stream",
     "text": [
      "(14565, 42) (3642, 42) (14565,) (3642,)\n"
     ]
    }
   ],
   "source": [
    "from sklearn.model_selection import train_test_split\n",
    "X_train,X_test,y_train,y_test=train_test_split(X,y,test_size=0.2,random_state=42)\n",
    "print(X_train.shape,X_test.shape,y_train.shape,y_test.shape)"
   ]
  },
  {
   "cell_type": "code",
   "execution_count": 43,
   "id": "theoretical-change",
   "metadata": {},
   "outputs": [],
   "source": [
    "from sklearn.metrics import mean_squared_error, explained_variance_score, r2_score\n",
    "\n",
    "def plot_prediction_analysis(y, y_pred, figsize=(10,4), title=''):\n",
    "    fig, axs = plt.subplots(1, 2, figsize=figsize)\n",
    "    axs[0].scatter(y, y_pred)\n",
    "    mn = min(np.min(y), np.min(y_pred))\n",
    "    mx = max(np.max(y), np.max(y_pred))\n",
    "    axs[0].plot([mn, mx], [mn, mx], c='red')\n",
    "    axs[0].set_xlabel('$y$')\n",
    "    axs[0].set_ylabel('$\\hat{y}$')\n",
    "    rmse = np.sqrt(mean_squared_error(y, y_pred))\n",
    "    evs = explained_variance_score(y, y_pred)\n",
    "    r2 = r2_score(y, y_pred)\n",
    "    axs[0].set_title('rmse = {:.2f}, evs = {:.2f}, r2 = {:,.2f}'.format(rmse, evs, r2))\n",
    "    \n",
    "    axs[1].hist(y-y_pred, bins=50)\n",
    "    avg = np.mean(y-y_pred)\n",
    "    std = np.std(y-y_pred)\n",
    "    axs[1].set_xlabel('$y - \\hat{y}$')\n",
    "    axs[1].set_title('Histrogram prediction error, $\\mu$ = {:.2f}, $\\sigma$ = {:.2f}'.format(avg, std))\n",
    "    \n",
    "    if title!='':\n",
    "        fig.suptitle(title)"
   ]
  },
  {
   "cell_type": "code",
   "execution_count": 44,
   "id": "focal-canon",
   "metadata": {},
   "outputs": [
    {
     "data": {
      "image/png": "[encoded data removed]",
      "text/plain": [
       "<Figure size 720x288 with 2 Axes>"
      ]
     },
     "metadata": {
      "needs_background": "light"
     },
     "output_type": "display_data"
    },
    {
     "data": {
      "image/png": "[encoded data removed]",
      "text/plain": [
       "<Figure size 720x288 with 2 Axes>"
      ]
     },
     "metadata": {
      "needs_background": "light"
     },
     "output_type": "display_data"
    }
   ],
   "source": [
    "from sklearn.pipeline import Pipeline\n",
    "from sklearn.linear_model import Lasso\n",
    "from sklearn.preprocessing import StandardScaler, PolynomialFeatures\n",
    "\n",
    "# usning pipelining on the linear rgression model\n",
    "model = Pipeline((\n",
    "        (\"standard_scaler\", StandardScaler()),\n",
    "        (\"poly\", PolynomialFeatures(degree=2)),\n",
    "        (\"lin_reg\", Lasso(alpha=0.01))\n",
    "    ))\n",
    "\n",
    "model.fit(X_train, y_train)\n",
    "\n",
    "y_train_pred = model.predict(X_train)\n",
    "\n",
    "plot_prediction_analysis(y_train, y_train_pred, title='Training data Set')\n",
    "\n",
    "y_test_pred = model.predict(X_test)\n",
    "plot_prediction_analysis(y_test, y_test_pred, title='Testing data Set')"
   ]
  },
  {
   "cell_type": "code",
   "execution_count": null,
   "id": "temporal-chrome",
   "metadata": {},
   "outputs": [],
   "source": []
  }
 ],
 "metadata": {
  "kernelspec": {
   "display_name": "Python 3",
   "language": "python",
   "name": "python3"
  },
  "language_info": {
   "codemirror_mode": {
    "name": "ipython",
    "version": 3
   },
   "file_extension": ".py",
   "mimetype": "text/x-python",
   "name": "python",
   "nbconvert_exporter": "python",
   "pygments_lexer": "ipython3",
   "version": "3.9.2"
  }
 },
 "nbformat": 4,
 "nbformat_minor": 5
}
